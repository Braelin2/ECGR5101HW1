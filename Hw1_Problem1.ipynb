{
  "nbformat": 4,
  "nbformat_minor": 0,
  "metadata": {
    "colab": {
      "provenance": [],
      "mount_file_id": "1ZVCYce4qZWQGixWlyQ68JdBeNsIBwt7C",
      "authorship_tag": "ABX9TyPcLY2jebX2fT3pv1Ys/Gck",
      "include_colab_link": true
    },
    "kernelspec": {
      "name": "python3",
      "display_name": "Python 3"
    },
    "language_info": {
      "name": "python"
    }
  },
  "cells": [
    {
      "cell_type": "markdown",
      "metadata": {
        "id": "view-in-github",
        "colab_type": "text"
      },
      "source": [
        "<a href=\"https://colab.research.google.com/github/Braelin2/ECGR5101HW1/blob/main/Hw1_Problem1.ipynb\" target=\"_parent\"><img src=\"https://colab.research.google.com/assets/colab-badge.svg\" alt=\"Open In Colab\"/></a>"
      ]
    },
    {
      "cell_type": "code",
      "execution_count": null,
      "metadata": {
        "id": "OESKrvLEDQ1P"
      },
      "outputs": [],
      "source": [
        "import numpy as np\n",
        "import pandas as pd\n",
        "import matplotlib.pyplot as plt"
      ]
    },
    {
      "cell_type": "code",
      "source": [
        "from google.colab import data_table\n",
        "from os import MFD_HUGE_256MB\n",
        "df = pd.read_csv(\"D3.csv\")\n",
        "\n",
        "dataX1 = df.values[:,0]\n",
        "dataX2 = df.values[:,1]\n",
        "dataX3 = df.values[:,2]\n",
        "Y = df.values[:,3]\n",
        "\n",
        "m = len(Y)\n",
        "\n",
        "theta0 = np.zeros(2);\n",
        "iterations = 1000\n",
        "alpha = 0.1"
      ],
      "metadata": {
        "id": "_G-x80IZEnxq"
      },
      "execution_count": 207,
      "outputs": []
    },
    {
      "cell_type": "code",
      "source": [
        "newX0 = np.ones((m,1))\n",
        "newX1 = dataX1.reshape(m, 1)\n",
        "X1 = np.hstack((newX0,newX1))\n",
        "\n",
        "newX2 = dataX2.reshape(m, 1)\n",
        "X2 = np.hstack((newX0,newX2))\n",
        "\n",
        "newX3 = dataX3.reshape(m, 1)\n",
        "X3 = np.hstack((newX0,newX3))"
      ],
      "metadata": {
        "id": "uPG32BmwiZsu"
      },
      "execution_count": 208,
      "outputs": []
    },
    {
      "cell_type": "code",
      "source": [
        "def compute_cost(X, y, theta):\n",
        "    predictions = X.dot(theta)\n",
        "    errors = np.subtract(predictions, y)\n",
        "    sqrErrors = np.square(errors)\n",
        "    J = 1 / (2 * m) * np.sum(sqrErrors)\n",
        "    return J"
      ],
      "metadata": {
        "id": "Jk4jzHLNIz8J"
      },
      "execution_count": 172,
      "outputs": []
    },
    {
      "cell_type": "code",
      "source": [
        "def gradient_descent(X, y, theta, alpha, iterations):\n",
        "    m = len(y)\n",
        "    cost_history = np.zeros(iterations)\n",
        "\n",
        "    for i in range(iterations):\n",
        "        predictions = X.dot(theta)\n",
        "        errors = predictions - y\n",
        "        theta = theta - (alpha / m) * X.T.dot(errors)\n",
        "        cost_history[i] = compute_cost(X, y, theta)\n",
        "\n",
        "    return theta, cost_history"
      ],
      "metadata": {
        "id": "0w41iyKbHs9s"
      },
      "execution_count": 173,
      "outputs": []
    },
    {
      "cell_type": "code",
      "source": [
        "theta1, cost_history1 = gradient_descent(X1, Y, theta0, alpha, iterations)\n",
        "\n",
        "plt.scatter(X1[:,1], Y, color='red', marker='+', label='Training Data')\n",
        "plt.plot(X1[:,1], X1.dot(theta1), color='green', label='Linear Regression')\n",
        "plt.grid(True)\n",
        "plt.xlabel(\"Iterations\")\n",
        "plt.ylabel(\"Cost\")\n",
        "plt.title(f\"X1 vs Y\")\n",
        "plt.legend()\n",
        "plt.show()\n",
        "\n",
        "plt.plot(range(1, iterations + 1), cost_history1, color='blue')\n",
        "plt.rcParams[\"figure.figsize\"] = (10, 6)\n",
        "plt.grid(True)\n",
        "\n",
        "plt.xlabel('Number of iterations')\n",
        "plt.ylabel('Cost (J)')\n",
        "plt.title('Convergence of gradient descent X1 vs Y')\n",
        "\n",
        "# Show the plot\n",
        "plt.show()"
      ],
      "metadata": {
        "id": "XbSnGMAWKEOf"
      },
      "execution_count": null,
      "outputs": []
    },
    {
      "cell_type": "code",
      "source": [
        "theta2, cost_history2 = gradient_descent(X2, Y, theta0, alpha, iterations)\n",
        "\n",
        "plt.scatter(X2[:,1], Y, color='red', marker='+', label='Training Data')\n",
        "plt.plot(X2, X2.dot(theta2), color='green', label='Linear Regression')\n",
        "plt.grid(True)\n",
        "plt.xlabel(\"Iterations\")\n",
        "plt.ylabel(\"Cost\")\n",
        "plt.title(f\"X1 vs Y\")\n",
        "plt.legend()\n",
        "plt.show()\n",
        "\n",
        "plt.plot(range(1, iterations + 1), cost_history2, color='blue')\n",
        "plt.rcParams[\"figure.figsize\"] = (10, 6)\n",
        "plt.grid(True)\n",
        "\n",
        "plt.xlabel('Number of iterations')\n",
        "plt.ylabel('Cost (J)')\n",
        "plt.title('Convergence of gradient descent X2 vs Y')\n",
        "\n",
        "# Show the plot\n",
        "plt.show()"
      ],
      "metadata": {
        "id": "GmdpMn8GbdU-"
      },
      "execution_count": null,
      "outputs": []
    },
    {
      "cell_type": "code",
      "source": [
        "theta3, cost_history3 = gradient_descent(X3, Y, theta0, alpha, iterations)\n",
        "\n",
        "plt.scatter(X3[:,1], Y, color='red', marker='+', label='Training Data')\n",
        "plt.plot(X3, X3.dot(theta3), color='green', label='Linear Regression')\n",
        "plt.grid(True)\n",
        "plt.xlabel(\"Iterations\")\n",
        "plt.ylabel(\"Cost\")\n",
        "plt.title(f\"X1 vs Y\")\n",
        "plt.legend()\n",
        "plt.show()\n",
        "\n",
        "plt.plot(range(1, iterations + 1), cost_history3, color='blue')\n",
        "plt.rcParams[\"figure.figsize\"] = (10, 6)\n",
        "plt.grid(True)\n",
        "\n",
        "plt.xlabel('Number of iterations')\n",
        "plt.ylabel('Cost (J)')\n",
        "plt.title('Convergence of gradient descent X3 vs Y')\n",
        "\n",
        "# Show the plot\n",
        "plt.show()"
      ],
      "metadata": {
        "id": "o5DhYzcWbo53"
      },
      "execution_count": null,
      "outputs": []
    }
  ]
}